{
  "nbformat": 4,
  "nbformat_minor": 0,
  "metadata": {
    "colab": {
      "provenance": []
    },
    "kernelspec": {
      "name": "python3",
      "display_name": "Python 3"
    },
    "language_info": {
      "name": "python"
    }
  },
  "cells": [
    {
      "cell_type": "code",
      "execution_count": null,
      "metadata": {
        "id": "rL3yxitoX93F"
      },
      "outputs": [],
      "source": [
        "!curl -fsSL https://get.nextflow.io | bash"
      ]
    },
    {
      "cell_type": "code",
      "source": [
        "!wget https://ftp-trace.ncbi.nlm.nih.gov/sra/sdk/3.0.0/sratoolkit.3.0.0-ubuntu64.tar.gz\n",
        "!tar -xvzf sratoolkit.3.0.0-ubuntu64.tar.gz"
      ],
      "metadata": {
        "id": "68LopZ6KazZb"
      },
      "execution_count": null,
      "outputs": []
    },
    {
      "cell_type": "code",
      "source": [
        "!sratoolkit.3.0.0-ubuntu64/bin/vdb-config -i"
      ],
      "metadata": {
        "colab": {
          "base_uri": "https://localhost:8080/"
        },
        "id": "7Ms7NLaEa5qO",
        "outputId": "202e7644-6e85-4b69-f8e0-3296319a5dff"
      },
      "execution_count": 6,
      "outputs": [
        {
          "output_type": "stream",
          "name": "stdout",
          "text": [
            "\u001b[2J\u001b[?25l\u001b[?1000h\u001b[?1002h2022-10-07T13:30:51 vdb-config.3.0.0 fatal: SIGNAL - Segmentation fault \n"
          ]
        }
      ]
    },
    {
      "cell_type": "code",
      "source": [
        "!wget https://www.bioinformatics.babraham.ac.uk/projects/fastqc/fastqc_v0.11.9.zip\n",
        "!unzip fastqc_v0.11.9.zip"
      ],
      "metadata": {
        "id": "9fjKnrEEcEpS"
      },
      "execution_count": null,
      "outputs": []
    },
    {
      "cell_type": "code",
      "source": [
        "!chmod +x FastQC/fastqc"
      ],
      "metadata": {
        "id": "SGx_DHxacJKv"
      },
      "execution_count": 8,
      "outputs": []
    },
    {
      "cell_type": "code",
      "source": [
        "!pip3 install multiqc"
      ],
      "metadata": {
        "id": "viCQcXlrcapz"
      },
      "execution_count": null,
      "outputs": []
    },
    {
      "cell_type": "code",
      "source": [
        "!./nextflow run my_pipeline.nf -with-report nextflow_report.html -with-dag flowchart.pdf --SRA SRR6410603,SRR6410604"
      ],
      "metadata": {
        "colab": {
          "base_uri": "https://localhost:8080/"
        },
        "id": "1BPsf2pwaORj",
        "outputId": "b07d1c34-295d-4b35-93b4-f2dc94042c0a"
      },
      "execution_count": 10,
      "outputs": [
        {
          "output_type": "stream",
          "name": "stdout",
          "text": [
            "N E X T F L O W  ~  version 22.04.5\n",
            "Launching `my_pipeline.nf` [magical_goldstine] DSL2 - revision: 71638d88bd\n",
            "\n",
            "  Q U A L I T Y   C O N T R O L  \n",
            "=================================\n",
            "SRA number         : [SRR6410603, SRR6410604]\n",
            "Results location   : results/\n",
            "[-        ] process > DownloadFastQ -\u001b[K\n",
            "[-        ] process > QC            -\u001b[K\n",
            "\u001b[3A\n",
            "[-        ] process > DownloadFastQ -\u001b[K\n",
            "[-        ] process > QC            -\u001b[K\n",
            "[-        ] process > MultiQC       -\u001b[K\n",
            "\u001b[4A\n",
            "executor >  local (1)\u001b[K\n",
            "[be/243c03] process > DownloadFastQ (2) [  0%] 0 of 2\u001b[K\n",
            "[-        ] process > QC                -\u001b[K\n",
            "[-        ] process > MultiQC           -\u001b[K\n",
            "\u001b[5A\n",
            "executor >  local (2)\u001b[K\n",
            "[54/a41d9a] process > DownloadFastQ (1) [  0%] 0 of 2\u001b[K\n",
            "[-        ] process > QC                -\u001b[K\n",
            "[-        ] process > MultiQC           -\u001b[K\n",
            "\u001b[5A\n",
            "executor >  local (3)\u001b[K\n",
            "[54/a41d9a] process > DownloadFastQ (1) [ 50%] 1 of 2\u001b[K\n",
            "[b7/04cb66] process > QC (1)            [  0%] 0 of 1\u001b[K\n",
            "[-        ] process > MultiQC           -\u001b[K\n",
            "\u001b[5A\n",
            "executor >  local (4)\u001b[K\n",
            "[be/243c03] process > DownloadFastQ (2) [100%] 2 of 2 ✔\u001b[K\n",
            "[17/132806] process > QC (2)            [  0%] 0 of 2\u001b[K\n",
            "[-        ] process > MultiQC           -\u001b[K\n",
            "\u001b[5A\n",
            "executor >  local (4)\u001b[K\n",
            "[be/243c03] process > DownloadFastQ (2) [100%] 2 of 2 ✔\u001b[K\n",
            "[17/132806] process > QC (2)            [  0%] 0 of 2\u001b[K\n",
            "[-        ] process > MultiQC           -\u001b[K\n",
            "\u001b[5A\n",
            "executor >  local (4)\u001b[K\n",
            "[be/243c03] process > DownloadFastQ (2) [100%] 2 of 2 ✔\u001b[K\n",
            "[b7/04cb66] process > QC (1)            [ 50%] 1 of 2\u001b[K\n",
            "[-        ] process > MultiQC           -\u001b[K\n",
            "\u001b[5A\n",
            "executor >  local (5)\u001b[K\n",
            "[be/243c03] process > DownloadFastQ (2) [100%] 2 of 2 ✔\u001b[K\n",
            "[17/132806] process > QC (2)            [100%] 2 of 2 ✔\u001b[K\n",
            "[15/73e6ba] process > MultiQC           [  0%] 0 of 1\u001b[K\n",
            "\u001b[5A\n",
            "executor >  local (5)\u001b[K\n",
            "[be/243c03] process > DownloadFastQ (2) [100%] 2 of 2 ✔\u001b[K\n",
            "[17/132806] process > QC (2)            [100%] 2 of 2 ✔\u001b[K\n",
            "[15/73e6ba] process > MultiQC           [  0%] 0 of 1\u001b[K\n",
            "\u001b[5A\n",
            "executor >  local (5)\u001b[K\n",
            "[be/243c03] process > DownloadFastQ (2) [100%] 2 of 2 ✔\u001b[K\n",
            "[17/132806] process > QC (2)            [100%] 2 of 2 ✔\u001b[K\n",
            "[15/73e6ba] process > MultiQC           [100%] 1 of 1 ✔\u001b[K\n",
            "\u001b[5A\n",
            "executor >  local (5)\u001b[K\n",
            "[be/243c03] process > DownloadFastQ (2) [100%] 2 of 2 ✔\u001b[K\n",
            "[17/132806] process > QC (2)            [100%] 2 of 2 ✔\u001b[K\n",
            "[15/73e6ba] process > MultiQC           [100%] 1 of 1 ✔\u001b[K\n",
            "\u001b[32;1mCompleted at: 07-Oct-2022 15:11:56\n",
            "Duration    : 1h 37m 43s\n",
            "CPU hours   : 3.2\n",
            "Succeeded   : 5\n",
            "\u001b[22;39m\u001b[K\n",
            "\n"
          ]
        }
      ]
    }
  ]
}